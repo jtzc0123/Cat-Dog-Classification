{
 "cells": [
  {
   "cell_type": "code",
   "execution_count": 1,
   "metadata": {
    "collapsed": false
   },
   "outputs": [
    {
     "name": "stderr",
     "output_type": "stream",
     "text": [
      "Using TensorFlow backend.\n"
     ]
    }
   ],
   "source": [
    "import cv2, os,random\n",
    "import numpy as np\n",
    "from tqdm import tqdm\n",
    "import matplotlib.pyplot as plt\n",
    "import time\n",
    "import keras\n",
    "from keras import backend as K"
   ]
  },
  {
   "cell_type": "markdown",
   "metadata": {},
   "source": [
    "### Generating the train data\n",
    "This part is to generate the data and the labels for use."
   ]
  },
  {
   "cell_type": "code",
   "execution_count": null,
   "metadata": {
    "collapsed": true
   },
   "outputs": [],
   "source": [
    "from keras.applications.vgg16 import VGG16\n",
    "from keras.preprocessing import image\n",
    "from keras.applications.vgg16 import preprocess_input\n",
    "train_dir='./input/train/'\n",
    "test_dir='./input/test/'\n",
    "model = VGG16(weights='imagenet', include_top=False)\n",
    "\n",
    "train_file=[train_dir+img for img in os.listdir(train_dir)]\n",
    "number=range(0,12500)\n",
    "random.shuffle(number)\n",
    "number=number[0:2000]\n",
    "train=[]\n",
    "cat_label=[0]\n",
    "dog_label=[1]\n",
    "for i in tqdm(number):\n",
    "    cat_path=train_dir+'cat.'+str(i)+'.jpg'\n",
    "    img = image.load_img(cat_path, target_size=(224, 224))\n",
    "    x = image.img_to_array(img)\n",
    "    x = np.expand_dims(x, axis=0)\n",
    "    cat_data = preprocess_input(x)\n",
    "    cat_data=model.predict(cat_data)\n",
    "\n",
    "   \n",
    "    dog_path=train_dir+'dog.'+str(i)+'.jpg'\n",
    "    img = image.load_img(dog_path, target_size=(224, 224))\n",
    "    x = image.img_to_array(img)\n",
    "    x = np.expand_dims(x, axis=0)\n",
    "    dog_data = preprocess_input(x)\n",
    "    dog_data=model.predict(dog_data)\n",
    "   \n",
    "    train.append([np.array(cat_data[0]),np.array(cat_label)])\n",
    "    train.append([np.array(dog_data[0]),np.array(dog_label)])\n",
    "np.save('train_4000.npy',train)"
   ]
  },
  {
   "cell_type": "markdown",
   "metadata": {},
   "source": [
    "### Build and Train the Model\n",
    "This part is to build and train the model"
   ]
  },
  {
   "cell_type": "code",
   "execution_count": 11,
   "metadata": {
    "collapsed": false
   },
   "outputs": [
    {
     "name": "stdout",
     "output_type": "stream",
     "text": [
      "Train on 3000 samples, validate on 1000 samples\n",
      "Epoch 1/30\n",
      "3000/3000 [==============================] - 13s - loss: 2.7973 - acc: 0.8223 - val_loss: 0.7991 - val_acc: 0.9500\n",
      "Epoch 2/30\n",
      "3000/3000 [==============================] - 13s - loss: 3.1166 - acc: 0.8053 - val_loss: 0.7991 - val_acc: 0.9500\n",
      "Epoch 3/30\n",
      "3000/3000 [==============================] - 13s - loss: 3.0411 - acc: 0.8100 - val_loss: 0.7991 - val_acc: 0.9500\n",
      "Epoch 4/30\n",
      "3000/3000 [==============================] - 12s - loss: 2.9081 - acc: 0.8183 - val_loss: 0.7991 - val_acc: 0.9500\n",
      "Epoch 5/30\n",
      "3000/3000 [==============================] - 13s - loss: 2.7307 - acc: 0.8293 - val_loss: 0.7991 - val_acc: 0.9500\n",
      "Epoch 6/30\n",
      "1920/3000 [==================>...........] - ETA: 4s - loss: 3.0026 - acc: 0.8125"
     ]
    },
    {
     "ename": "KeyboardInterrupt",
     "evalue": "",
     "output_type": "error",
     "traceback": [
      "\u001b[0;31m---------------------------------------------------------------------------\u001b[0m",
      "\u001b[0;31mKeyboardInterrupt\u001b[0m                         Traceback (most recent call last)",
      "\u001b[0;32m<ipython-input-11-fcdb0b020685>\u001b[0m in \u001b[0;36m<module>\u001b[0;34m()\u001b[0m\n\u001b[1;32m     44\u001b[0m \u001b[0mhistory\u001b[0m \u001b[0;34m=\u001b[0m \u001b[0mLossHistory\u001b[0m\u001b[0;34m(\u001b[0m\u001b[0;34m)\u001b[0m\u001b[0;34m\u001b[0m\u001b[0m\n\u001b[1;32m     45\u001b[0m model.fit(train_data, train_label, batch_size=batch_size, nb_epoch=nb_epoch,\n\u001b[0;32m---> 46\u001b[0;31m           validation_split=0.25, verbose=1, shuffle=True, callbacks=[history])\n\u001b[0m\u001b[1;32m     47\u001b[0m \u001b[0mmodel\u001b[0m\u001b[0;34m.\u001b[0m\u001b[0msave\u001b[0m\u001b[0;34m(\u001b[0m\u001b[0;34m'model.h5'\u001b[0m\u001b[0;34m)\u001b[0m\u001b[0;34m\u001b[0m\u001b[0m\n\u001b[1;32m     48\u001b[0m \u001b[0;32mdel\u001b[0m \u001b[0mtrain_data\u001b[0m\u001b[0;34m\u001b[0m\u001b[0m\n",
      "\u001b[0;32m/home/chen/anaconda/lib/python2.7/site-packages/keras/models.pyc\u001b[0m in \u001b[0;36mfit\u001b[0;34m(self, x, y, batch_size, nb_epoch, verbose, callbacks, validation_split, validation_data, shuffle, class_weight, sample_weight, initial_epoch, **kwargs)\u001b[0m\n\u001b[1;32m    670\u001b[0m                               \u001b[0mclass_weight\u001b[0m\u001b[0;34m=\u001b[0m\u001b[0mclass_weight\u001b[0m\u001b[0;34m,\u001b[0m\u001b[0;34m\u001b[0m\u001b[0m\n\u001b[1;32m    671\u001b[0m                               \u001b[0msample_weight\u001b[0m\u001b[0;34m=\u001b[0m\u001b[0msample_weight\u001b[0m\u001b[0;34m,\u001b[0m\u001b[0;34m\u001b[0m\u001b[0m\n\u001b[0;32m--> 672\u001b[0;31m                               initial_epoch=initial_epoch)\n\u001b[0m\u001b[1;32m    673\u001b[0m \u001b[0;34m\u001b[0m\u001b[0m\n\u001b[1;32m    674\u001b[0m     def evaluate(self, x, y, batch_size=32, verbose=1,\n",
      "\u001b[0;32m/home/chen/anaconda/lib/python2.7/site-packages/keras/engine/training.pyc\u001b[0m in \u001b[0;36mfit\u001b[0;34m(self, x, y, batch_size, nb_epoch, verbose, callbacks, validation_split, validation_data, shuffle, class_weight, sample_weight, initial_epoch)\u001b[0m\n\u001b[1;32m   1194\u001b[0m                               \u001b[0mval_f\u001b[0m\u001b[0;34m=\u001b[0m\u001b[0mval_f\u001b[0m\u001b[0;34m,\u001b[0m \u001b[0mval_ins\u001b[0m\u001b[0;34m=\u001b[0m\u001b[0mval_ins\u001b[0m\u001b[0;34m,\u001b[0m \u001b[0mshuffle\u001b[0m\u001b[0;34m=\u001b[0m\u001b[0mshuffle\u001b[0m\u001b[0;34m,\u001b[0m\u001b[0;34m\u001b[0m\u001b[0m\n\u001b[1;32m   1195\u001b[0m                               \u001b[0mcallback_metrics\u001b[0m\u001b[0;34m=\u001b[0m\u001b[0mcallback_metrics\u001b[0m\u001b[0;34m,\u001b[0m\u001b[0;34m\u001b[0m\u001b[0m\n\u001b[0;32m-> 1196\u001b[0;31m                               initial_epoch=initial_epoch)\n\u001b[0m\u001b[1;32m   1197\u001b[0m \u001b[0;34m\u001b[0m\u001b[0m\n\u001b[1;32m   1198\u001b[0m     \u001b[0;32mdef\u001b[0m \u001b[0mevaluate\u001b[0m\u001b[0;34m(\u001b[0m\u001b[0mself\u001b[0m\u001b[0;34m,\u001b[0m \u001b[0mx\u001b[0m\u001b[0;34m,\u001b[0m \u001b[0my\u001b[0m\u001b[0;34m,\u001b[0m \u001b[0mbatch_size\u001b[0m\u001b[0;34m=\u001b[0m\u001b[0;36m32\u001b[0m\u001b[0;34m,\u001b[0m \u001b[0mverbose\u001b[0m\u001b[0;34m=\u001b[0m\u001b[0;36m1\u001b[0m\u001b[0;34m,\u001b[0m \u001b[0msample_weight\u001b[0m\u001b[0;34m=\u001b[0m\u001b[0mNone\u001b[0m\u001b[0;34m)\u001b[0m\u001b[0;34m:\u001b[0m\u001b[0;34m\u001b[0m\u001b[0m\n",
      "\u001b[0;32m/home/chen/anaconda/lib/python2.7/site-packages/keras/engine/training.pyc\u001b[0m in \u001b[0;36m_fit_loop\u001b[0;34m(self, f, ins, out_labels, batch_size, nb_epoch, verbose, callbacks, val_f, val_ins, shuffle, callback_metrics, initial_epoch)\u001b[0m\n\u001b[1;32m    889\u001b[0m                 \u001b[0mbatch_logs\u001b[0m\u001b[0;34m[\u001b[0m\u001b[0;34m'size'\u001b[0m\u001b[0;34m]\u001b[0m \u001b[0;34m=\u001b[0m \u001b[0mlen\u001b[0m\u001b[0;34m(\u001b[0m\u001b[0mbatch_ids\u001b[0m\u001b[0;34m)\u001b[0m\u001b[0;34m\u001b[0m\u001b[0m\n\u001b[1;32m    890\u001b[0m                 \u001b[0mcallbacks\u001b[0m\u001b[0;34m.\u001b[0m\u001b[0mon_batch_begin\u001b[0m\u001b[0;34m(\u001b[0m\u001b[0mbatch_index\u001b[0m\u001b[0;34m,\u001b[0m \u001b[0mbatch_logs\u001b[0m\u001b[0;34m)\u001b[0m\u001b[0;34m\u001b[0m\u001b[0m\n\u001b[0;32m--> 891\u001b[0;31m                 \u001b[0mouts\u001b[0m \u001b[0;34m=\u001b[0m \u001b[0mf\u001b[0m\u001b[0;34m(\u001b[0m\u001b[0mins_batch\u001b[0m\u001b[0;34m)\u001b[0m\u001b[0;34m\u001b[0m\u001b[0m\n\u001b[0m\u001b[1;32m    892\u001b[0m                 \u001b[0;32mif\u001b[0m \u001b[0;32mnot\u001b[0m \u001b[0misinstance\u001b[0m\u001b[0;34m(\u001b[0m\u001b[0mouts\u001b[0m\u001b[0;34m,\u001b[0m \u001b[0mlist\u001b[0m\u001b[0;34m)\u001b[0m\u001b[0;34m:\u001b[0m\u001b[0;34m\u001b[0m\u001b[0m\n\u001b[1;32m    893\u001b[0m                     \u001b[0mouts\u001b[0m \u001b[0;34m=\u001b[0m \u001b[0;34m[\u001b[0m\u001b[0mouts\u001b[0m\u001b[0;34m]\u001b[0m\u001b[0;34m\u001b[0m\u001b[0m\n",
      "\u001b[0;32m/home/chen/anaconda/lib/python2.7/site-packages/keras/backend/tensorflow_backend.pyc\u001b[0m in \u001b[0;36m__call__\u001b[0;34m(self, inputs)\u001b[0m\n\u001b[1;32m   1941\u001b[0m         \u001b[0msession\u001b[0m \u001b[0;34m=\u001b[0m \u001b[0mget_session\u001b[0m\u001b[0;34m(\u001b[0m\u001b[0;34m)\u001b[0m\u001b[0;34m\u001b[0m\u001b[0m\n\u001b[1;32m   1942\u001b[0m         updated = session.run(self.outputs + [self.updates_op],\n\u001b[0;32m-> 1943\u001b[0;31m                               feed_dict=feed_dict)\n\u001b[0m\u001b[1;32m   1944\u001b[0m         \u001b[0;32mreturn\u001b[0m \u001b[0mupdated\u001b[0m\u001b[0;34m[\u001b[0m\u001b[0;34m:\u001b[0m\u001b[0mlen\u001b[0m\u001b[0;34m(\u001b[0m\u001b[0mself\u001b[0m\u001b[0;34m.\u001b[0m\u001b[0moutputs\u001b[0m\u001b[0;34m)\u001b[0m\u001b[0;34m]\u001b[0m\u001b[0;34m\u001b[0m\u001b[0m\n\u001b[1;32m   1945\u001b[0m \u001b[0;34m\u001b[0m\u001b[0m\n",
      "\u001b[0;32m/home/chen/anaconda/lib/python2.7/site-packages/tensorflow/python/client/session.pyc\u001b[0m in \u001b[0;36mrun\u001b[0;34m(self, fetches, feed_dict, options, run_metadata)\u001b[0m\n\u001b[1;32m    765\u001b[0m     \u001b[0;32mtry\u001b[0m\u001b[0;34m:\u001b[0m\u001b[0;34m\u001b[0m\u001b[0m\n\u001b[1;32m    766\u001b[0m       result = self._run(None, fetches, feed_dict, options_ptr,\n\u001b[0;32m--> 767\u001b[0;31m                          run_metadata_ptr)\n\u001b[0m\u001b[1;32m    768\u001b[0m       \u001b[0;32mif\u001b[0m \u001b[0mrun_metadata\u001b[0m\u001b[0;34m:\u001b[0m\u001b[0;34m\u001b[0m\u001b[0m\n\u001b[1;32m    769\u001b[0m         \u001b[0mproto_data\u001b[0m \u001b[0;34m=\u001b[0m \u001b[0mtf_session\u001b[0m\u001b[0;34m.\u001b[0m\u001b[0mTF_GetBuffer\u001b[0m\u001b[0;34m(\u001b[0m\u001b[0mrun_metadata_ptr\u001b[0m\u001b[0;34m)\u001b[0m\u001b[0;34m\u001b[0m\u001b[0m\n",
      "\u001b[0;32m/home/chen/anaconda/lib/python2.7/site-packages/tensorflow/python/client/session.pyc\u001b[0m in \u001b[0;36m_run\u001b[0;34m(self, handle, fetches, feed_dict, options, run_metadata)\u001b[0m\n\u001b[1;32m    963\u001b[0m     \u001b[0;32mif\u001b[0m \u001b[0mfinal_fetches\u001b[0m \u001b[0;32mor\u001b[0m \u001b[0mfinal_targets\u001b[0m\u001b[0;34m:\u001b[0m\u001b[0;34m\u001b[0m\u001b[0m\n\u001b[1;32m    964\u001b[0m       results = self._do_run(handle, final_targets, final_fetches,\n\u001b[0;32m--> 965\u001b[0;31m                              feed_dict_string, options, run_metadata)\n\u001b[0m\u001b[1;32m    966\u001b[0m     \u001b[0;32melse\u001b[0m\u001b[0;34m:\u001b[0m\u001b[0;34m\u001b[0m\u001b[0m\n\u001b[1;32m    967\u001b[0m       \u001b[0mresults\u001b[0m \u001b[0;34m=\u001b[0m \u001b[0;34m[\u001b[0m\u001b[0;34m]\u001b[0m\u001b[0;34m\u001b[0m\u001b[0m\n",
      "\u001b[0;32m/home/chen/anaconda/lib/python2.7/site-packages/tensorflow/python/client/session.pyc\u001b[0m in \u001b[0;36m_do_run\u001b[0;34m(self, handle, target_list, fetch_list, feed_dict, options, run_metadata)\u001b[0m\n\u001b[1;32m   1013\u001b[0m     \u001b[0;32mif\u001b[0m \u001b[0mhandle\u001b[0m \u001b[0;32mis\u001b[0m \u001b[0mNone\u001b[0m\u001b[0;34m:\u001b[0m\u001b[0;34m\u001b[0m\u001b[0m\n\u001b[1;32m   1014\u001b[0m       return self._do_call(_run_fn, self._session, feed_dict, fetch_list,\n\u001b[0;32m-> 1015\u001b[0;31m                            target_list, options, run_metadata)\n\u001b[0m\u001b[1;32m   1016\u001b[0m     \u001b[0;32melse\u001b[0m\u001b[0;34m:\u001b[0m\u001b[0;34m\u001b[0m\u001b[0m\n\u001b[1;32m   1017\u001b[0m       return self._do_call(_prun_fn, self._session, handle, feed_dict,\n",
      "\u001b[0;32m/home/chen/anaconda/lib/python2.7/site-packages/tensorflow/python/client/session.pyc\u001b[0m in \u001b[0;36m_do_call\u001b[0;34m(self, fn, *args)\u001b[0m\n\u001b[1;32m   1020\u001b[0m   \u001b[0;32mdef\u001b[0m \u001b[0m_do_call\u001b[0m\u001b[0;34m(\u001b[0m\u001b[0mself\u001b[0m\u001b[0;34m,\u001b[0m \u001b[0mfn\u001b[0m\u001b[0;34m,\u001b[0m \u001b[0;34m*\u001b[0m\u001b[0margs\u001b[0m\u001b[0;34m)\u001b[0m\u001b[0;34m:\u001b[0m\u001b[0;34m\u001b[0m\u001b[0m\n\u001b[1;32m   1021\u001b[0m     \u001b[0;32mtry\u001b[0m\u001b[0;34m:\u001b[0m\u001b[0;34m\u001b[0m\u001b[0m\n\u001b[0;32m-> 1022\u001b[0;31m       \u001b[0;32mreturn\u001b[0m \u001b[0mfn\u001b[0m\u001b[0;34m(\u001b[0m\u001b[0;34m*\u001b[0m\u001b[0margs\u001b[0m\u001b[0;34m)\u001b[0m\u001b[0;34m\u001b[0m\u001b[0m\n\u001b[0m\u001b[1;32m   1023\u001b[0m     \u001b[0;32mexcept\u001b[0m \u001b[0merrors\u001b[0m\u001b[0;34m.\u001b[0m\u001b[0mOpError\u001b[0m \u001b[0;32mas\u001b[0m \u001b[0me\u001b[0m\u001b[0;34m:\u001b[0m\u001b[0;34m\u001b[0m\u001b[0m\n\u001b[1;32m   1024\u001b[0m       \u001b[0mmessage\u001b[0m \u001b[0;34m=\u001b[0m \u001b[0mcompat\u001b[0m\u001b[0;34m.\u001b[0m\u001b[0mas_text\u001b[0m\u001b[0;34m(\u001b[0m\u001b[0me\u001b[0m\u001b[0;34m.\u001b[0m\u001b[0mmessage\u001b[0m\u001b[0;34m)\u001b[0m\u001b[0;34m\u001b[0m\u001b[0m\n",
      "\u001b[0;32m/home/chen/anaconda/lib/python2.7/site-packages/tensorflow/python/client/session.pyc\u001b[0m in \u001b[0;36m_run_fn\u001b[0;34m(session, feed_dict, fetch_list, target_list, options, run_metadata)\u001b[0m\n\u001b[1;32m   1002\u001b[0m         return tf_session.TF_Run(session, options,\n\u001b[1;32m   1003\u001b[0m                                  \u001b[0mfeed_dict\u001b[0m\u001b[0;34m,\u001b[0m \u001b[0mfetch_list\u001b[0m\u001b[0;34m,\u001b[0m \u001b[0mtarget_list\u001b[0m\u001b[0;34m,\u001b[0m\u001b[0;34m\u001b[0m\u001b[0m\n\u001b[0;32m-> 1004\u001b[0;31m                                  status, run_metadata)\n\u001b[0m\u001b[1;32m   1005\u001b[0m \u001b[0;34m\u001b[0m\u001b[0m\n\u001b[1;32m   1006\u001b[0m     \u001b[0;32mdef\u001b[0m \u001b[0m_prun_fn\u001b[0m\u001b[0;34m(\u001b[0m\u001b[0msession\u001b[0m\u001b[0;34m,\u001b[0m \u001b[0mhandle\u001b[0m\u001b[0;34m,\u001b[0m \u001b[0mfeed_dict\u001b[0m\u001b[0;34m,\u001b[0m \u001b[0mfetch_list\u001b[0m\u001b[0;34m)\u001b[0m\u001b[0;34m:\u001b[0m\u001b[0;34m\u001b[0m\u001b[0m\n",
      "\u001b[0;31mKeyboardInterrupt\u001b[0m: "
     ]
    }
   ],
   "source": [
    "train_data = np.array([i[0] for i in train])\n",
    "train_label = np.array([i[1] for i in train]) \n",
    "del train\n",
    "\n",
    "\n",
    "from keras.models import Sequential\n",
    "from keras.layers import Input, Dropout, Flatten, Conv2D, MaxPooling2D, Dense, Activation\n",
    "from keras.optimizers import RMSprop\n",
    "from keras.callbacks import ModelCheckpoint, Callback, EarlyStopping\n",
    "from keras.utils import np_utils\n",
    "from keras.optimizers import SGD\n",
    "sgd= SGD(lr=0.1, decay=1e-6, momentum=0.9, nesterov=True)\n",
    "objective = 'binary_crossentropy'\n",
    "def top():\n",
    "    model = Sequential()\n",
    "    model.add(Flatten(input_shape=train_data.shape[1:],name='flatten'))\n",
    "    model.add(Dense(512, activation='relu', name='fc1'))\n",
    "    model.add(Dropout(0.5))\n",
    "    model.add(Dense(512, activation='relu', name='fc2'))\n",
    "    model.add(Dropout(0.5))\n",
    "    model.add(Dense(1, activation='sigmoid', name='predictions'))\n",
    "\n",
    "    model.compile(loss=objective, optimizer=sgd, metrics=['accuracy'])\n",
    "    return model\n",
    "\n",
    "\n",
    "model = top()\n",
    "\n",
    "batch_size=64\n",
    "nb_epoch=30\n",
    "class LossHistory(Callback):\n",
    "    def on_train_begin(self, logs={}):\n",
    "        self.losses = []\n",
    "        self.val_losses = []\n",
    "        \n",
    "    def on_epoch_end(self, batch, logs={}):\n",
    "        self.losses.append(logs.get('loss'))\n",
    "        self.val_losses.append(logs.get('val_loss'))\n",
    "\n",
    "# early_stopping = EarlyStopping(monitor='val_loss', patience=3, verbose=1, mode='auto')        \n",
    "\n",
    "\n",
    "history = LossHistory()\n",
    "model.fit(train_data, train_label, batch_size=batch_size, nb_epoch=nb_epoch,\n",
    "          validation_split=0.25, verbose=1, shuffle=True, callbacks=[history])\n",
    "model.save('model.h5')\n",
    "del train_data"
   ]
  },
  {
   "cell_type": "markdown",
   "metadata": {},
   "source": [
    "### Generating the test data\n",
    "This part is to build and generate the test data and label."
   ]
  },
  {
   "cell_type": "code",
   "execution_count": 2,
   "metadata": {
    "collapsed": false
   },
   "outputs": [
    {
     "name": "stderr",
     "output_type": "stream",
     "text": [
      "100%|██████████| 2000/2000 [1:02:04<00:00,  1.86s/it]\n"
     ]
    },
    {
     "name": "stdout",
     "output_type": "stream",
     "text": [
      "Train on 3000 samples, validate on 1000 samples\n",
      "Epoch 1/30\n",
      "3000/3000 [==============================] - 12s - loss: 3.0892 - acc: 0.8063 - val_loss: 1.2178 - val_acc: 0.9240\n",
      "Epoch 2/30\n",
      "3000/3000 [==============================] - 12s - loss: 3.3971 - acc: 0.7880 - val_loss: 1.2178 - val_acc: 0.9240\n",
      "Epoch 3/30\n",
      "3000/3000 [==============================] - 12s - loss: 3.0489 - acc: 0.8097 - val_loss: 1.2178 - val_acc: 0.9240\n",
      "Epoch 4/30\n",
      "3000/3000 [==============================] - 12s - loss: 3.2263 - acc: 0.7987 - val_loss: 1.2178 - val_acc: 0.9240\n",
      "Epoch 5/30\n",
      "3000/3000 [==============================] - 12s - loss: 3.2365 - acc: 0.7980 - val_loss: 1.2178 - val_acc: 0.9240\n",
      "Epoch 6/30\n",
      "3000/3000 [==============================] - 12s - loss: 3.1573 - acc: 0.8030 - val_loss: 1.2178 - val_acc: 0.9240\n",
      "Epoch 7/30\n",
      "3000/3000 [==============================] - 12s - loss: 3.0880 - acc: 0.8073 - val_loss: 1.2178 - val_acc: 0.9240\n",
      "Epoch 8/30\n",
      "3000/3000 [==============================] - 12s - loss: 3.0123 - acc: 0.8120 - val_loss: 1.2178 - val_acc: 0.9240\n",
      "Epoch 9/30\n",
      "3000/3000 [==============================] - 13s - loss: 3.1142 - acc: 0.8057 - val_loss: 1.2178 - val_acc: 0.9240\n",
      "Epoch 10/30\n",
      "3000/3000 [==============================] - 13s - loss: 2.9270 - acc: 0.8173 - val_loss: 1.2178 - val_acc: 0.9240\n",
      "Epoch 11/30\n",
      "3000/3000 [==============================] - 13s - loss: 3.2267 - acc: 0.7987 - val_loss: 1.2178 - val_acc: 0.9240\n",
      "Epoch 12/30\n",
      "3000/3000 [==============================] - 13s - loss: 3.2695 - acc: 0.7960 - val_loss: 1.2178 - val_acc: 0.9240\n",
      "Epoch 13/30\n",
      "3000/3000 [==============================] - 13s - loss: 2.9799 - acc: 0.8140 - val_loss: 1.2178 - val_acc: 0.9240\n",
      "Epoch 14/30\n",
      "3000/3000 [==============================] - 13s - loss: 3.2688 - acc: 0.7960 - val_loss: 1.2178 - val_acc: 0.9240\n",
      "Epoch 15/30\n",
      "3000/3000 [==============================] - 13s - loss: 3.1249 - acc: 0.8050 - val_loss: 1.2178 - val_acc: 0.9240\n",
      "Epoch 16/30\n",
      "3000/3000 [==============================] - 13s - loss: 3.0505 - acc: 0.8097 - val_loss: 1.2178 - val_acc: 0.9240\n",
      "Epoch 17/30\n",
      "3000/3000 [==============================] - 13s - loss: 3.2295 - acc: 0.7983 - val_loss: 1.2178 - val_acc: 0.9240\n",
      "Epoch 18/30\n",
      "3000/3000 [==============================] - 13s - loss: 3.1193 - acc: 0.8053 - val_loss: 1.2178 - val_acc: 0.9240\n",
      "Epoch 19/30\n",
      "3000/3000 [==============================] - 13s - loss: 3.1792 - acc: 0.8017 - val_loss: 1.2178 - val_acc: 0.9240\n",
      "Epoch 20/30\n",
      "3000/3000 [==============================] - 13s - loss: 3.0557 - acc: 0.8093 - val_loss: 1.2178 - val_acc: 0.9240\n",
      "Epoch 21/30\n",
      "3000/3000 [==============================] - 13s - loss: 3.0775 - acc: 0.8080 - val_loss: 1.2178 - val_acc: 0.9240\n",
      "Epoch 22/30\n",
      "3000/3000 [==============================] - 13s - loss: 3.0168 - acc: 0.8117 - val_loss: 1.2178 - val_acc: 0.9240\n",
      "Epoch 23/30\n",
      "3000/3000 [==============================] - 13s - loss: 3.1449 - acc: 0.8037 - val_loss: 1.2178 - val_acc: 0.9240\n",
      "Epoch 24/30\n",
      "3000/3000 [==============================] - 13s - loss: 3.0753 - acc: 0.8080 - val_loss: 1.2178 - val_acc: 0.9240\n",
      "Epoch 25/30\n",
      "3000/3000 [==============================] - 13s - loss: 3.1992 - acc: 0.8003 - val_loss: 1.2178 - val_acc: 0.9240\n",
      "Epoch 26/30\n",
      "3000/3000 [==============================] - 13s - loss: 3.1724 - acc: 0.8020 - val_loss: 1.2178 - val_acc: 0.9240\n",
      "Epoch 27/30\n",
      "3000/3000 [==============================] - 13s - loss: 3.1036 - acc: 0.8063 - val_loss: 1.2178 - val_acc: 0.9240\n",
      "Epoch 28/30\n",
      "3000/3000 [==============================] - 13s - loss: 3.1775 - acc: 0.8017 - val_loss: 1.2178 - val_acc: 0.9240\n",
      "Epoch 29/30\n",
      "3000/3000 [==============================] - 13s - loss: 3.2371 - acc: 0.7980 - val_loss: 1.2178 - val_acc: 0.9240\n",
      "Epoch 30/30\n",
      "3000/3000 [==============================] - 13s - loss: 3.0436 - acc: 0.8100 - val_loss: 1.2178 - val_acc: 0.9240\n"
     ]
    },
    {
     "name": "stderr",
     "output_type": "stream",
     "text": [
      "100%|██████████| 2000/2000 [30:35<00:00,  1.10it/s]\n"
     ]
    }
   ],
   "source": [
    "test=[]\n",
    "number=range(1,12501)\n",
    "testmodel = VGG16(weights='imagenet', include_top=False)\n",
    "for i in tqdm(number):\n",
    "    img_path=test_dir+''+str(i)+'.jpg'\n",
    "    img = image.load_img(img_path, target_size=(224, 224))\n",
    "    x = image.img_to_array(img)\n",
    "    x = np.expand_dims(x, axis=0)\n",
    "    x = preprocess_input(x)\n",
    "    data=testmodel.predict(x)\n",
    "    test.append([np.array(data[0]),np.array(i)])\n",
    "np.save('test.npy',test)    \n",
    "\n"
   ]
  },
  {
   "cell_type": "markdown",
   "metadata": {},
   "source": [
    "### Predict the test data\n",
    "This part use the trained model to predict data and save the result."
   ]
  },
  {
   "cell_type": "code",
   "execution_count": 16,
   "metadata": {
    "collapsed": false
   },
   "outputs": [
    {
     "name": "stdout",
     "output_type": "stream",
     "text": [
      "12480/12500 [============================>.] - ETA: 0s"
     ]
    }
   ],
   "source": [
    "\n",
    "test_label=np.array([i[1] for i in test])\n",
    "test_data = np.array([i[0] for i in test])\n",
    "\n",
    "prediction=model.predict(test_data,verbose=1)\n",
    "prediction=prediction.clip(min=0.005, max=0.995)\n",
    "\n",
    "\n",
    "import pandas as pd\n",
    "from keras.preprocessing.image import *\n",
    "\n",
    "df = pd.read_csv(\"sample_submission.csv\")\n",
    "\n",
    "for i in range(0,12500):\n",
    "\n",
    "\n",
    "    index = int(test_label[i])\n",
    "    df.set_value(index-1, 'label', prediction[i])\n",
    "\n",
    "df.to_csv('pred.csv', index=None)"
   ]
  },
  {
   "cell_type": "markdown",
   "metadata": {},
   "source": [
    "### Draw the image\n",
    "This part draw the image of loss's change when training"
   ]
  },
  {
   "cell_type": "code",
   "execution_count": 16,
   "metadata": {
    "collapsed": false
   },
   "outputs": [
    {
     "data": {
      "image/png": "[encoded data removed]",
      "text/plain": [
       "<matplotlib.figure.Figure at 0x7fba513b7e90>"
      ]
     },
     "metadata": {},
     "output_type": "display_data"
    }
   ],
   "source": [
    "loss = history.losses\n",
    "val_loss = history.val_losses\n",
    "fig=plt.figure();\n",
    "plt.xlabel('Epochs')\n",
    "plt.ylabel('Loss')\n",
    "plt.title('VGG-16 Loss Trend')\n",
    "plt.plot(loss, 'blue', label='Training Loss')\n",
    "plt.plot(val_loss, 'green', label='Validation Loss')\n",
    "plt.xticks(range(0,nb_epoch)[0::2])\n",
    "plt.legend()\n",
    "plt.show()"
   ]
  }
 ],
 "metadata": {
  "kernelspec": {
   "display_name": "Python 2",
   "language": "python",
   "name": "python2"
  },
  "language_info": {
   "codemirror_mode": {
    "name": "ipython",
    "version": 2
   },
   "file_extension": ".py",
   "mimetype": "text/x-python",
   "name": "python",
   "nbconvert_exporter": "python",
   "pygments_lexer": "ipython2",
   "version": "2.7.12"
  }
 },
 "nbformat": 4,
 "nbformat_minor": 2
}
